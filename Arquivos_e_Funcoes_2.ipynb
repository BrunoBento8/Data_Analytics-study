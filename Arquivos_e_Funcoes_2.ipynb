{
  "nbformat": 4,
  "nbformat_minor": 0,
  "metadata": {
    "colab": {
      "name": "Arquivos_e_Funcoes_2.ipynb",
      "provenance": [],
      "collapsed_sections": [],
      "include_colab_link": true
    },
    "kernelspec": {
      "name": "python3",
      "display_name": "Python 3"
    }
  },
  "cells": [
    {
      "cell_type": "markdown",
      "metadata": {
        "id": "view-in-github",
        "colab_type": "text"
      },
      "source": [
        "<a href=\"https://colab.research.google.com/github/BrunoBento8/Data_Analytics-study/blob/main/Arquivos_e_Funcoes_2.ipynb\" target=\"_parent\"><img src=\"https://colab.research.google.com/assets/colab-badge.svg\" alt=\"Open In Colab\"/></a>"
      ]
    },
    {
      "cell_type": "markdown",
      "metadata": {
        "id": "SmoHgt-lwkpD"
      },
      "source": [
        "---"
      ]
    },
    {
      "cell_type": "markdown",
      "metadata": {
        "id": "GABI6OW8OfQ2"
      },
      "source": [
        "# **Exercícios**"
      ]
    },
    {
      "cell_type": "markdown",
      "metadata": {
        "id": "muD1vxozykSC"
      },
      "source": [
        "## 0\\. Preparação do ambiente"
      ]
    },
    {
      "cell_type": "markdown",
      "metadata": {
        "id": "ahrFfCuBxJKs"
      },
      "source": [
        "Neste exercício vamos trabalhar com os arquivos de csv e texto definidos abaixo. Execute cada uma das células de código para escrever os arquivos na sua máquina virtual."
      ]
    },
    {
      "cell_type": "markdown",
      "metadata": {
        "id": "u0uFuhRSq_hQ"
      },
      "source": [
        "* **carros.csv**: arquivo csv com informações sobre carros (venda, manutenção, portas, etc.)."
      ]
    },
    {
      "cell_type": "code",
      "metadata": {
        "id": "daMf-xaXqKs2",
        "colab": {
          "base_uri": "https://localhost:8080/"
        },
        "outputId": "10da099a-fffe-4ddd-9b86-af37f18b618f"
      },
      "source": [
        "%%writefile carros.csv\n",
        "id,valor_venda,valor_manutencao,portas,pessoas,porta_malas\n",
        "1,vhigh,med,2,2,small\n",
        "2,med,vhigh,2,2,small\n",
        "3,low,vhigh,2,2,small\n",
        "4,low,high,2,2,small\n",
        "5,low,high,2,2,small\n",
        "6,low,high,4,4,big\n",
        "7,low,high,4,4,big\n",
        "8,low,med,2,2,small\n",
        "9,low,med,2,2,small\n",
        "10,low,med,2,2,small\n",
        "11,low,med,4,4,big\n",
        "12,low,low,2,2,small\n",
        "13,low,low,4,4,small\n",
        "14,low,low,4,4,med"
      ],
      "execution_count": null,
      "outputs": [
        {
          "output_type": "stream",
          "name": "stdout",
          "text": [
            "Writing carros.csv\n"
          ]
        }
      ]
    },
    {
      "cell_type": "markdown",
      "metadata": {
        "id": "X0Z2PhbCrTz1"
      },
      "source": [
        "* **musica.txt**: arquivo texto com a letra da música Roda Viva do Chico Buarque."
      ]
    },
    {
      "cell_type": "code",
      "metadata": {
        "id": "m7Ge2rggrU73",
        "colab": {
          "base_uri": "https://localhost:8080/"
        },
        "outputId": "2c92a9f6-ed6b-4769-fcfb-f7c6cd22bd5b"
      },
      "source": [
        "%%writefile musica.txt\n",
        "Roda Viva\n",
        "Chico Buarque\n",
        "\n",
        "Tem dias que a gente se sente\n",
        "Como quem partiu ou morreu\n",
        "A gente estancou de repente\n",
        "Ou foi o mundo então que cresceu\n",
        "A gente quer ter voz ativa\n",
        "No nosso destino mandar\n",
        "Mas eis que chega a roda viva\n",
        "E carrega o destino pra lá\n",
        "\n",
        "Roda mundo, roda-gigante\n",
        "Roda moinho, roda pião\n",
        "\n",
        "O tempo rodou num instante\n",
        "Nas voltas do meu coração\n",
        "A gente vai contra a corrente\n",
        "Até não poder resistir\n",
        "Na volta do barco é que sente\n",
        "O quanto deixou de cumprir\n",
        "Faz tempo que a gente cultiva\n",
        "A mais linda roseira que há\n",
        "Mas eis que chega a roda viva\n",
        "E carrega a roseira pra lá\n",
        "\n",
        "Roda mundo, roda-gigante\n",
        "Roda moinho, roda pião"
      ],
      "execution_count": null,
      "outputs": [
        {
          "output_type": "stream",
          "name": "stdout",
          "text": [
            "Writing musica.txt\n"
          ]
        }
      ]
    },
    {
      "cell_type": "markdown",
      "metadata": {
        "id": "zMN1Q3jdwoJm"
      },
      "source": [
        "---"
      ]
    },
    {
      "cell_type": "markdown",
      "metadata": {
        "id": "U4S19ZvHsPcE"
      },
      "source": [
        "## 1\\. Funções para arquivo csv"
      ]
    },
    {
      "cell_type": "markdown",
      "metadata": {
        "id": "Mcf3mkOrtHzK"
      },
      "source": [
        "Complete a função abaixo para extrair uma coluna do arquivo csv em uma lista. Os elementos devem ter o tipo de dado correto."
      ]
    },
    {
      "cell_type": "code",
      "metadata": {
        "id": "W-1PAg7Ctt7i"
      },
      "source": [
        "def extrai_coluna_csv(nome_arquivo: str, indice_coluna: int, tipo_dado: str):\n",
        "  \n",
        "  coluna = []\n",
        "  \n",
        "  with open(file=nome_arquivo, mode = 'r', encoding='utf8') as fp:\n",
        "    linha = fp.readline()\n",
        "    linha = fp.readline()\n",
        "\n",
        "    while linha:\n",
        "      linha_separada = linha.split(sep=',')\n",
        "      linha = linha_separada[indice_coluna]\n",
        "      \n",
        "      if tipo_dado in linha == 'str':\n",
        "        coluna.append(linha)\n",
        "      else:\n",
        "        coluna.append(str(linha))\n",
        "\n",
        "      linha = fp.readline()\n",
        "      \n",
        "\n",
        "\n",
        "  # leia o arquivo com o comando 'with' utilizando o parametro 'nome_arquivo'\n",
        "  # extraia a coluna do arquivo utilizando o parametro 'indice_coluna'\n",
        "  # use a estrutura de decisão if/elif/else para fazer a conversão do tipo de dados utilizando o parametro 'tipo_dado'\n",
        "\n",
        "  return coluna"
      ],
      "execution_count": null,
      "outputs": []
    },
    {
      "cell_type": "code",
      "source": [
        "def extrair_coluna_csv(nome_arquivo: str, indice_coluna: int, tipo_dado):\n",
        "  print(isinstance(tipo_dado, int))\n",
        "\n",
        "  coluna = []\n",
        "\n",
        "  with open(file=nome_arquivo, mode='r', enconding='utf8'):\n",
        "    linha = linha.readline()\n",
        "    linha = linha.readline()\n",
        "\n",
        "  while len(linha):\n",
        "    linha_separada = linha.split(sep=',')\n",
        "    if indice_coluna >= len(linha_separada):\n",
        "      break\n",
        "\n",
        "    linha = linha_separada[indice_coluna]\n",
        "    coluna.append(linha)\n",
        "\n",
        "    if isinstance(tipo_dado, str):\n",
        "      coluna.append(linha)\n",
        "    elif isinstance(tipo_dado, int):\n",
        "      coluna.append(linha)\n",
        "    else:\n",
        "      print('Error')\n",
        "\n",
        "  return coluna"
      ],
      "metadata": {
        "id": "VhWOzoH3ZlSi"
      },
      "execution_count": null,
      "outputs": []
    },
    {
      "cell_type": "markdown",
      "metadata": {
        "id": "qCbQF6jru_01"
      },
      "source": [
        "Você pode testar a função com os códigos abaixo."
      ]
    },
    {
      "cell_type": "code",
      "metadata": {
        "id": "Rl-EYdySu90s",
        "colab": {
          "base_uri": "https://localhost:8080/"
        },
        "outputId": "f4e029c6-2dd7-40a2-dfbc-eea1d867bb5f"
      },
      "source": [
        "# extrair a coluna valor_venda\n",
        "valor_venda = extrai_coluna_csv(nome_arquivo='./carros.csv', indice_coluna=0, tipo_dado='str')\n",
        "print(valor_venda) # deve retornar ['vhigh', 'med', 'low', ...]"
      ],
      "execution_count": null,
      "outputs": [
        {
          "output_type": "stream",
          "name": "stdout",
          "text": [
            "['1', '2', '3', '4', '5', '6', '7', '8', '9', '10', '11', '12', '13', '14']\n"
          ]
        }
      ]
    },
    {
      "cell_type": "code",
      "metadata": {
        "id": "hvD-zzwDwboD",
        "colab": {
          "base_uri": "https://localhost:8080/"
        },
        "outputId": "be46f529-02fa-4470-eb4d-d99b18aeaa6c"
      },
      "source": [
        "# extrair a coluna pessoas\n",
        "pessoas = extrai_coluna_csv(nome_arquivo='./carros.csv', indice_coluna=4, tipo_dado='int')\n",
        "print(pessoas) # deve retornar [2, 2, 2, ...]"
      ],
      "execution_count": null,
      "outputs": [
        {
          "output_type": "stream",
          "name": "stdout",
          "text": [
            "['2', '2', '2', '2', '2', '4', '4', '2', '2', '2', '4', '2', '4', '4']\n"
          ]
        }
      ]
    },
    {
      "cell_type": "markdown",
      "metadata": {
        "id": "QTS5-sSbs4ie"
      },
      "source": [
        "---"
      ]
    },
    {
      "cell_type": "markdown",
      "metadata": {
        "id": "sebqs6uztCH4"
      },
      "source": [
        "## 2\\. Funções para arquivo txt"
      ]
    },
    {
      "cell_type": "markdown",
      "metadata": {
        "id": "IFVBGkNhzB3P"
      },
      "source": [
        "Complete a função abaixo para extrair uma as palavras de uma linha do arquivo txt em uma lista."
      ]
    },
    {
      "cell_type": "code",
      "metadata": {
        "id": "ewrNqMtczWZJ"
      },
      "source": [
        "def extrai_linha_txt(nome_arquivo: str, numero_linha: int):\n",
        "\n",
        "  palavras_linha = []\n",
        "\n",
        "  with open(file=nome_arquivo, mode='r', encoding='utf8') as fp:\n",
        "    \n",
        "    for linha in range(0, numero_linha):\n",
        "      linha = fp.readline()\n",
        "    \n",
        "  linha_separada = linha.split(sep=' ')\n",
        "\n",
        "  palavras_linha=[linha_separada]\n",
        "      \n",
        "      \n",
        "\n",
        "\n",
        "  # leia o arquivo com o comando 'with' utilizando o parametro 'nome_arquivo'\n",
        "  # extraia a linha do arquivo utilizando o parametro 'numero_linha'\n",
        "  # quebre a linha em palavras com o comando split, note que o separador é um espaço ' '\n",
        "\n",
        "  return palavras_linha"
      ],
      "execution_count": null,
      "outputs": []
    },
    {
      "cell_type": "code",
      "source": [
        "with open(file='./musica.txt', mode='r', encoding='utf8') as fp:\n",
        "   \n",
        "   for linha in range(0, 5):\n",
        "      linha = fp.readline()\n",
        "\n",
        "print(linha)"
      ],
      "metadata": {
        "colab": {
          "base_uri": "https://localhost:8080/"
        },
        "id": "BEvH_phPi3JF",
        "outputId": "53ec2c0a-0cfa-46d0-f7e7-f77045b8e43e"
      },
      "execution_count": null,
      "outputs": [
        {
          "output_type": "stream",
          "name": "stdout",
          "text": [
            "Como quem partiu ou morreu\n",
            "\n"
          ]
        }
      ]
    },
    {
      "cell_type": "markdown",
      "metadata": {
        "id": "Qz2UwipIz0t2"
      },
      "source": [
        "Você pode testar a função com os códigos abaixo."
      ]
    },
    {
      "cell_type": "code",
      "metadata": {
        "id": "_Wxp43qqz1V2",
        "colab": {
          "base_uri": "https://localhost:8080/"
        },
        "outputId": "87699847-db75-4a0c-a549-922775e391a6"
      },
      "source": [
        "linha10 = extrai_linha_txt(nome_arquivo='./musica.txt', numero_linha=10)\n",
        "print(linha10) # deve retornar ['Mas', 'eis', 'que', 'chega', 'a', 'roda', 'viva']"
      ],
      "execution_count": null,
      "outputs": [
        {
          "output_type": "stream",
          "name": "stdout",
          "text": [
            "[['Mas', 'eis', 'que', 'chega', 'a', 'roda', 'viva\\n']]\n"
          ]
        }
      ]
    },
    {
      "cell_type": "markdown",
      "metadata": {
        "id": "Fo9qTjietCH6"
      },
      "source": [
        "---"
      ]
    }
  ]
}
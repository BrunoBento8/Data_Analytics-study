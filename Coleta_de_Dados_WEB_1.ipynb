{
  "nbformat": 4,
  "nbformat_minor": 0,
  "metadata": {
    "colab": {
      "name": "Coleta_de_Dados_WEB_1.ipynb",
      "provenance": [],
      "collapsed_sections": [],
      "include_colab_link": true
    },
    "kernelspec": {
      "name": "python3",
      "display_name": "Python 3"
    }
  },
  "cells": [
    {
      "cell_type": "markdown",
      "metadata": {
        "id": "view-in-github",
        "colab_type": "text"
      },
      "source": [
        "<a href=\"https://colab.research.google.com/github/BrunoBento8/Data_Analytics-study/blob/main/Coleta_de_Dados_WEB_1.ipynb\" target=\"_parent\"><img src=\"https://colab.research.google.com/assets/colab-badge.svg\" alt=\"Open In Colab\"/></a>"
      ]
    },
    {
      "cell_type": "markdown",
      "metadata": {
        "id": "eJ283bopLqLU"
      },
      "source": [
        "## 0\\. Estruturas de dados"
      ]
    },
    {
      "cell_type": "markdown",
      "metadata": {
        "id": "0gmSAOdOLqLU"
      },
      "source": [
        "*   **Não estruturado**: texto, imagem, aúdio, etc.\n",
        "*   **Semi estruturado**: html, json, etc.\n",
        "*   **Estruturado**: tabelas, planilhas, etc.\n",
        "\n"
      ]
    },
    {
      "cell_type": "markdown",
      "metadata": {
        "id": "muD1vxozykSC"
      },
      "source": [
        "## 1\\. Web Crawling"
      ]
    },
    {
      "cell_type": "markdown",
      "metadata": {
        "id": "5a3_syBIP6yO"
      },
      "source": [
        "### **1.1. HTTP** "
      ]
    },
    {
      "cell_type": "markdown",
      "metadata": {
        "id": "NglCEvJDmqkw"
      },
      "source": [
        "O HTTP (hypertext transfer protocol) é um protocolo de transferência de hipertexto (texto, imagens, vídeos, etc.). É o protocolo padrão de transferência de informação pela internet: \n",
        "\n",
        "```\n",
        "http://www.google.com/\n",
        "```"
      ]
    },
    {
      "cell_type": "markdown",
      "metadata": {
        "id": "6Vz-WdRe6yT_"
      },
      "source": [
        "**Cliente / Servidor** é a arquitetura da internet. Nela um **cliente** (navegador web, código Python, etc.) utiliza um **método** HTTP para interagir com um servidor (requisitar dados, enviar dados, etc.). O **servidor**, por sua vez, envia uma resposta para o cliente com um **código de retorno** indicando se a interação ocorreu com sucesso."
      ]
    },
    {
      "cell_type": "markdown",
      "metadata": {
        "id": "ixvdR5Hc6YBV"
      },
      "source": [
        "**Métodos** são as operações que podemos realizar com o protocolo para interagir com um servidor, você pode encontrar uma lista completa neste [link](https://developer.mozilla.org/pt-BR/docs/Web/HTTP/Methods). Os mais importantes são: "
      ]
    },
    {
      "cell_type": "markdown",
      "metadata": {
        "id": "vQgT8F82xi5t"
      },
      "source": [
        "* **GET**: Requisitar dados, (acessar uma página web, carregar o feed do instagram, etc.);\n",
        "* **POST**: Enviar dados (login, cadastro, mensagem whatsapp, tweet do Twitter)."
      ]
    },
    {
      "cell_type": "markdown",
      "metadata": {
        "id": "4x0_bwpUxT5i"
      },
      "source": [
        "**Códigos de retorno** são as números de 0 a 1000 que recebemos como resposta do servidor ao realizar uma operação qualquer, você pode encontrar uma lista completa neste [link](https://developer.mozilla.org/pt-BR/docs/Web/HTTP/Status). Os mais importantes são:\n"
      ]
    },
    {
      "cell_type": "markdown",
      "metadata": {
        "id": "S54FAykB9vwz"
      },
      "source": [
        "\n",
        "\n",
        "* Entre **200** e **299**: Sucesso;\n",
        "* Entre **400** e **499**: Erro do cliente;\n",
        "* Entre **500** e **599**: Erro do servidor.\n"
      ]
    },
    {
      "cell_type": "markdown",
      "metadata": {
        "id": "pnTZr_TR-FHG"
      },
      "source": [
        "Código **200** (sucesso) é o mais comum e o **404** (não encontrado) o mais famoso!"
      ]
    },
    {
      "cell_type": "markdown",
      "metadata": {
        "id": "E6D5rjlESJ1A"
      },
      "source": [
        "### **1.2. Pacote requests** "
      ]
    },
    {
      "cell_type": "markdown",
      "metadata": {
        "id": "N0DOVccZ0bXA"
      },
      "source": [
        "Pacote Python para interagir com a web através do protocolo HTTP. A documentação pode ser encontrada neste ([link](https://docs.python-requests.org/en/master/))."
      ]
    },
    {
      "cell_type": "code",
      "metadata": {
        "id": "yTaZdu4K_Y2u",
        "colab": {
          "base_uri": "https://localhost:8080/"
        },
        "outputId": "6fa3b162-25aa-4551-a721-bf481b214178"
      },
      "source": [
        "import requests\n",
        "\n",
        "print(requests.__version__)"
      ],
      "execution_count": null,
      "outputs": [
        {
          "output_type": "stream",
          "name": "stdout",
          "text": [
            "2.23.0\n"
          ]
        }
      ]
    },
    {
      "cell_type": "markdown",
      "metadata": {
        "id": "zc4FNq2F_y_y"
      },
      "source": [
        "Método:"
      ]
    },
    {
      "cell_type": "code",
      "metadata": {
        "id": "kZxaere104cn"
      },
      "source": [
        "resposta = requests.get('http://www.google.com')"
      ],
      "execution_count": null,
      "outputs": []
    },
    {
      "cell_type": "markdown",
      "metadata": {
        "id": "ExU-GJn2_7vb"
      },
      "source": [
        "Código de retorno:"
      ]
    },
    {
      "cell_type": "code",
      "metadata": {
        "id": "o1zN-RhW_4LF",
        "colab": {
          "base_uri": "https://localhost:8080/"
        },
        "outputId": "96f69796-bc3f-45bd-d07a-db2ca8c663b6"
      },
      "source": [
        "print(resposta.status_code)"
      ],
      "execution_count": null,
      "outputs": [
        {
          "output_type": "stream",
          "name": "stdout",
          "text": [
            "200\n"
          ]
        }
      ]
    },
    {
      "cell_type": "markdown",
      "metadata": {
        "id": "aWuUGOgN_yPX"
      },
      "source": [
        "Em geral, é bom verificar o código:"
      ]
    },
    {
      "cell_type": "code",
      "metadata": {
        "id": "rIZy-Z30_xKE"
      },
      "source": [
        "import requests\n",
        "from requests.exceptions import HTTPError\n",
        "\n",
        "conteudo = None\n",
        "URL = 'http://www.google.com'\n",
        "\n",
        "try:\n",
        "  resposta = requests.get(URL) #método get para trazer o dado\n",
        "  resposta.raise_for_status()\n",
        "except HTTPError as exc:\n",
        "  print(exc)\n",
        "else:\n",
        "  conteudo = resposta.text\n",
        "\n",
        "print(conteudo)"
      ],
      "execution_count": null,
      "outputs": []
    },
    {
      "cell_type": "markdown",
      "metadata": {
        "id": "9IX37Im4BCu7"
      },
      "source": [
        "### **1.3. Web Crawl** "
      ]
    },
    {
      "cell_type": "markdown",
      "metadata": {
        "id": "6Eg5qMFwBCve"
      },
      "source": [
        "Aplicação que interage com a web de forma automatizada, também conhecido como *web spider* ou *bot*. O pacote **requests** funciona bem para interaçõces simples (apenas metodos HTTP) já os pacotes **selenium** ([documentação](https://selenium-python.readthedocs.io/)) e **scrapy** ([documentação](https://docs.scrapy.org/en/latest/)) permitem que você navegue pela internet."
      ]
    },
    {
      "cell_type": "markdown",
      "metadata": {
        "id": "eII8lMdcCrlD"
      },
      "source": [
        "> **Web crawling** é um tema que **requer muito cuidado**, em geral você precisa de autorização do website para acessa-lo automaticamente. Empresas que usam a tecnologia (já trabalhei em uma) possuem departamento jurídicos dedicados ao assunto."
      ]
    },
    {
      "cell_type": "markdown",
      "metadata": {
        "id": "Fe2V68akHcZm"
      },
      "source": [
        "> A maioria dos sites fornece um arquivo chamado `robots.txt` informando como um web crawler pode interagir com a página."
      ]
    },
    {
      "cell_type": "markdown",
      "metadata": {
        "id": "jIsKVyzeI5-E"
      },
      "source": [
        "**Exemplo**: Função de web crawler."
      ]
    },
    {
      "cell_type": "code",
      "metadata": {
        "id": "KKKeAJDrIQb_"
      },
      "source": [
        "import requests\n",
        "from requests.exceptions import HTTPError\n",
        "\n",
        "def crawl_website(url: str) -> str:\n",
        "\n",
        "  try:\n",
        "    resposta = requests.get(url)\n",
        "    resposta.raise_for_status()\n",
        "  except HTTPError as exc:\n",
        "    print(exc)\n",
        "  else:\n",
        "    return resposta.text"
      ],
      "execution_count": null,
      "outputs": []
    },
    {
      "cell_type": "markdown",
      "metadata": {
        "id": "1PEah5unHz29"
      },
      "source": [
        "**Exemplo:** Wikipedia robots.txt"
      ]
    },
    {
      "cell_type": "code",
      "metadata": {
        "id": "Jqh7RQyXH5Tc"
      },
      "source": [
        "URL = 'https://en.wikipedia.org/robots.txt'\n",
        "\n",
        "conteudo = crawl_website(url=URL)\n",
        "print(conteudo)"
      ],
      "execution_count": null,
      "outputs": []
    },
    {
      "cell_type": "markdown",
      "metadata": {
        "id": "R1ZSzkmlDdFv"
      },
      "source": [
        "**Exemplo:** Extrair a página da Wikipédia sobre web crawlers. "
      ]
    },
    {
      "cell_type": "code",
      "metadata": {
        "id": "mF4DSwhc3ChM"
      },
      "source": [
        "URL = 'https://en.wikipedia.org/wiki/Web_crawler'\n",
        "\n",
        "conteudo = crawl_website(url=URL)\n",
        "print(conteudo)"
      ],
      "execution_count": null,
      "outputs": []
    },
    {
      "cell_type": "markdown",
      "metadata": {
        "id": "4rRCvy_UURrM"
      },
      "source": [
        "## 2\\. Web Scraping"
      ]
    },
    {
      "cell_type": "markdown",
      "metadata": {
        "id": "78RHF81A3tat"
      },
      "source": [
        "### **2.1. Formato HTML** "
      ]
    },
    {
      "cell_type": "markdown",
      "metadata": {
        "id": "i3f-X7y23onm"
      },
      "source": [
        "Um arquivo **texto** semi-estruturado, organizado por **tags**, você pode encontrar uma lista completa neste [link](https://www.w3schools.com/tags/ref_byfunc.asp). \n"
      ]
    },
    {
      "cell_type": "markdown",
      "metadata": {
        "id": "nKDF9EBH3onp"
      },
      "source": [
        "**Exemplo:** Arquivo `lotr.html`."
      ]
    },
    {
      "cell_type": "code",
      "metadata": {
        "id": "HLqVHEHZ3onq"
      },
      "source": [
        "%%html\n",
        "<html>\n",
        "  <head>\n",
        "    <!-- metadata -->\n",
        "  </head>\n",
        "  <body>\n",
        "    <h3>Senhor dos Anéis</h3>\n",
        "    <p>Filmes:</p>\n",
        "    <ul>\n",
        "      <li><b>2001:</b> O Senhor dos Anéis: A Sociedade do Anel</li>\n",
        "      <li><b>2002:</b> O Senhor dos Anéis: As Duas Torres</li>\n",
        "      <li><b>2003:</b> O Senhor dos Anéis: O Retorno do Rei</li>\n",
        "    </ul>\n",
        "  </body>\n",
        "</html>\n"
      ],
      "execution_count": null,
      "outputs": []
    },
    {
      "cell_type": "code",
      "metadata": {
        "id": "RRhGZvNuOEzf",
        "colab": {
          "base_uri": "https://localhost:8080/"
        },
        "outputId": "08f8fe3b-8708-4cde-91ad-9da26bec3dfa"
      },
      "source": [
        "%%writefile lotr.html\n",
        "<html>\n",
        "  <head>\n",
        "    <!-- metadata -->\n",
        "  </head>\n",
        "  <body>\n",
        "    <h3>Senhor dos Anéis</h3>\n",
        "    <p>Filmes:</p>\n",
        "    <ol>\n",
        "      <li><b>2001:</b> O Senhor dos Anéis: A Sociedade do Anel</li>\n",
        "      <li><b>2002:</b> O Senhor dos Anéis: As Duas Torres</li>\n",
        "      <li><b>2003:</b> O Senhor dos Anéis: O Retorno do Rei</li>\n",
        "    </ol>\n",
        "  </body>\n",
        "</html>"
      ],
      "execution_count": null,
      "outputs": [
        {
          "output_type": "stream",
          "name": "stdout",
          "text": [
            "Writing lotr.html\n"
          ]
        }
      ]
    },
    {
      "cell_type": "markdown",
      "metadata": {
        "id": "OUa6f2wEM_AX"
      },
      "source": [
        "### **2.2. Pacote beautifulsoup4** "
      ]
    },
    {
      "cell_type": "markdown",
      "metadata": {
        "id": "5nmdEpbvM_An"
      },
      "source": [
        "Pacote Python para extrair informações de arquivos HTML. A documentação pode ser encontrada neste ([link](https://www.crummy.com/software/BeautifulSoup/bs4/doc/)).\n",
        "\n",
        "\n"
      ]
    },
    {
      "cell_type": "markdown",
      "metadata": {
        "id": "QGuwOx4zNn69"
      },
      "source": [
        "**Exemplo:** Extrair os filmes e anos do arquivo `lotr.html` em um dicionário."
      ]
    },
    {
      "cell_type": "code",
      "metadata": {
        "id": "ZYTOOGfINnKT"
      },
      "source": [
        "from bs4 import BeautifulSoup\n",
        "\n",
        "pagina = BeautifulSoup(open('lotr.html', mode='r'), 'html.parser') #usando 'html.parser' para que leia e entenda as semi estruturas de tags\n"
      ],
      "execution_count": null,
      "outputs": []
    },
    {
      "cell_type": "code",
      "metadata": {
        "id": "3FWl9xZCPAZ6",
        "colab": {
          "base_uri": "https://localhost:8080/"
        },
        "outputId": "4c4bee65-46d4-4514-92e4-402135655cca"
      },
      "source": [
        "filmes_li = pagina.find_all('li') #olhando para todo o arquivo e encontra as tags com 'li'\n",
        "print(filmes_li)"
      ],
      "execution_count": null,
      "outputs": [
        {
          "output_type": "stream",
          "name": "stdout",
          "text": [
            "[<li><b>2001:</b> O Senhor dos Anéis: A Sociedade do Anel</li>, <li><b>2002:</b> O Senhor dos Anéis: As Duas Torres</li>, <li><b>2003:</b> O Senhor dos Anéis: O Retorno do Rei</li>]\n"
          ]
        }
      ]
    },
    {
      "cell_type": "code",
      "metadata": {
        "id": "je4Ga810QypZ",
        "colab": {
          "base_uri": "https://localhost:8080/"
        },
        "outputId": "d57a0d2d-1e5e-4274-ef45-308249a0a50d"
      },
      "source": [
        "print(list(set(map(lambda filme_li: type(filme_li), filmes_li))))"
      ],
      "execution_count": null,
      "outputs": [
        {
          "output_type": "stream",
          "name": "stdout",
          "text": [
            "[<class 'bs4.element.Tag'>]\n"
          ]
        }
      ]
    },
    {
      "cell_type": "code",
      "metadata": {
        "id": "AQ5PD0YpPWKw",
        "colab": {
          "base_uri": "https://localhost:8080/"
        },
        "outputId": "90cacaca-53b6-45c3-bcdf-cc77a942bf0d"
      },
      "source": [
        "filmes = []\n",
        "\n",
        "for filme_li in filmes_li:\n",
        "  filme = filme_li.get_text() #tira todas as tags e pega apenas o texto\n",
        "  ano = int(filme.split(sep=':')[0].strip()) # texto: '0[2001] (:) 1[O Senhor dos Anéis] (:) 2[A Sociedade do Anel]'\n",
        "  titulo = ':'.join(filme.split(sep=':')[1:]).strip() #\":\".join concatena os elementos e usa o que está entre áspas\n",
        "  filmes.append({'ano': ano, 'titulo': titulo})\n",
        "\n",
        "for filme in filmes:\n",
        "  print(filme)"
      ],
      "execution_count": null,
      "outputs": [
        {
          "output_type": "stream",
          "name": "stdout",
          "text": [
            "{'ano': 2001, 'titulo': 'O Senhor dos Anéis: A Sociedade do Anel'}\n",
            "{'ano': 2002, 'titulo': 'O Senhor dos Anéis: As Duas Torres'}\n",
            "{'ano': 2003, 'titulo': 'O Senhor dos Anéis: O Retorno do Rei'}\n"
          ]
        }
      ]
    },
    {
      "cell_type": "markdown",
      "metadata": {
        "id": "JnZYDOJ5UGeq"
      },
      "source": [
        "### **2.3. Web Scrape** "
      ]
    },
    {
      "cell_type": "markdown",
      "metadata": {
        "id": "roX-_J4FUWO0"
      },
      "source": [
        "Aplicação que extrai conteúdo de páginas web de forma automatizada, em geral é aplicado após o processo de web crawling."
      ]
    },
    {
      "cell_type": "markdown",
      "metadata": {
        "id": "su27z_AGRWyX"
      },
      "source": [
        "**Exemplo:** Extrair todo o texto da página da Wikipédia sobre web crawlers e contar a ocorrência da palavra `crawler`."
      ]
    },
    {
      "cell_type": "code",
      "metadata": {
        "id": "sg6BGdCYUqiP"
      },
      "source": [
        "URL = 'https://en.wikipedia.org/wiki/Web_crawler'\n",
        "\n",
        "conteudo = crawl_website(url=URL)\n",
        "with open(file='wiki.html', mode='w', encoding='utf8') as arquivo:\n",
        "  arquivo.write(conteudo)"
      ],
      "execution_count": null,
      "outputs": []
    },
    {
      "cell_type": "code",
      "metadata": {
        "id": "ZdvMdGMrRjES"
      },
      "source": [
        "from bs4 import BeautifulSoup\n",
        "\n",
        "pagina = BeautifulSoup(open('wiki.html', mode='r'), 'html.parser')"
      ],
      "execution_count": null,
      "outputs": []
    },
    {
      "cell_type": "code",
      "metadata": {
        "id": "hygnlatvRngb"
      },
      "source": [
        "texto = pagina.get_text()\n",
        "print(texto)"
      ],
      "execution_count": null,
      "outputs": []
    },
    {
      "cell_type": "code",
      "metadata": {
        "id": "W_PyA0akSSWH",
        "colab": {
          "base_uri": "https://localhost:8080/"
        },
        "outputId": "efffe5cf-ed39-4ac1-926a-4a488358878c"
      },
      "source": [
        "import re\n",
        "\n",
        "ocorrencias = len(re.findall('crawler', texto, re.IGNORECASE)) #ignorecase, ignora maiúsculo e minúsculo\n",
        "print(ocorrencias)"
      ],
      "execution_count": null,
      "outputs": [
        {
          "output_type": "stream",
          "name": "stdout",
          "text": [
            "192\n"
          ]
        }
      ]
    },
    {
      "cell_type": "markdown",
      "metadata": {
        "id": "ELgoMRAAUSjv"
      },
      "source": [
        "## 3\\. Web API"
      ]
    },
    {
      "cell_type": "markdown",
      "metadata": {
        "id": "gdukZft-DRcG"
      },
      "source": [
        "### **3.1. Formato JSON** "
      ]
    },
    {
      "cell_type": "markdown",
      "metadata": {
        "id": "zRXV0SW5DRcg"
      },
      "source": [
        "Um arquivo semi-estruturado, organizado por **chave/valor**, é equivalente a um dicionário Python.\n",
        "\n",
        "\n",
        "\n"
      ]
    },
    {
      "cell_type": "markdown",
      "metadata": {
        "id": "xMIEZoXoDRcg"
      },
      "source": [
        "**Arquivo JSON:** lotr.json"
      ]
    },
    {
      "cell_type": "code",
      "metadata": {
        "id": "NoqBO0BBUATc",
        "colab": {
          "base_uri": "https://localhost:8080/"
        },
        "outputId": "387c1c0c-fbe6-45d2-f5ce-1f2b525904a4"
      },
      "source": [
        "%%writefile lotr.json\n",
        "[\n",
        "    {\n",
        "        \"ano\": 2001,\n",
        "        \"titulo\": \"O Senhor dos Anéis: A Sociedade do Anel\"\n",
        "    },\n",
        "    {\n",
        "        \"ano\": 2002,\n",
        "        \"titulo\": \"O Senhor dos Anéis: As Duas Torres\"\n",
        "    },\n",
        "    {\n",
        "        \"ano\": 2003,\n",
        "        \"titulo\": \"O Senhor dos Anéis: O Retorno do Rei\"\n",
        "    }\n",
        "]"
      ],
      "execution_count": 1,
      "outputs": [
        {
          "output_type": "stream",
          "name": "stdout",
          "text": [
            "Writing lotr.json\n"
          ]
        }
      ]
    },
    {
      "cell_type": "markdown",
      "metadata": {
        "id": "NxrikQCDGiU5"
      },
      "source": [
        "### **2.2. Pacote json** "
      ]
    },
    {
      "cell_type": "markdown",
      "metadata": {
        "id": "26pAIk2JGiU6"
      },
      "source": [
        "Pacote nativo do Python para interagir com dados no formato json."
      ]
    },
    {
      "cell_type": "markdown",
      "source": [
        "O USO DA FUNÇÃO .load SERVE PARA QUE APÓS TODA A CAPTURA DOS DADOS ELES POSSAM SER TRABALHADOS COM O PYTHON."
      ],
      "metadata": {
        "id": "qqxQ2b_TpOOH"
      }
    },
    {
      "cell_type": "markdown",
      "metadata": {
        "id": "Vx-lQHLyMXS_"
      },
      "source": [
        "**Exemplo**: Arquivo JSON para dicionario Python."
      ]
    },
    {
      "cell_type": "code",
      "metadata": {
        "id": "Y5H7le-dGzKT",
        "colab": {
          "base_uri": "https://localhost:8080/"
        },
        "outputId": "3b6b2b1f-8616-44a2-f0dd-abab0bf52222"
      },
      "source": [
        "import json\n",
        "\n",
        "data = json.load(open(file='lotr.json', mode='r')) # a função .load pega do json e leva pro python\n",
        "print(data)"
      ],
      "execution_count": 2,
      "outputs": [
        {
          "output_type": "stream",
          "name": "stdout",
          "text": [
            "<class 'list'>\n"
          ]
        }
      ]
    },
    {
      "cell_type": "markdown",
      "metadata": {
        "id": "oQeBERRaW97K"
      },
      "source": [
        "**Exemplo**: Dicionario Python para formato JSON."
      ]
    },
    {
      "cell_type": "code",
      "metadata": {
        "id": "LuX3saC6W97z",
        "colab": {
          "base_uri": "https://localhost:8080/"
        },
        "outputId": "0becbcaa-bb51-4f9d-d65c-5fe54c8cd97d"
      },
      "source": [
        "import json\n",
        "\n",
        "data_json = json.dumps(data, indent=2, ensure_ascii=False) # a função .dumps leva do python para o json, \n",
        "#indent serve para dizer a quantidade de espaços da indentação\n",
        "#ensure_ascii pq o texto está em português e contém acentos (uft8)\n",
        "print(data_json)"
      ],
      "execution_count": null,
      "outputs": [
        {
          "output_type": "stream",
          "name": "stdout",
          "text": [
            "[\n",
            "  {\n",
            "    \"ano\": 2001,\n",
            "    \"titulo\": \"O Senhor dos Anéis: A Sociedade do Anel\"\n",
            "  },\n",
            "  {\n",
            "    \"ano\": 2002,\n",
            "    \"titulo\": \"O Senhor dos Anéis: As Duas Torres\"\n",
            "  },\n",
            "  {\n",
            "    \"ano\": 2003,\n",
            "    \"titulo\": \"O Senhor dos Anéis: O Retorno do Rei\"\n",
            "  }\n",
            "]\n"
          ]
        }
      ]
    },
    {
      "cell_type": "markdown",
      "metadata": {
        "id": "bo8UCA3tXUWd"
      },
      "source": [
        "### **2.3. Web API** "
      ]
    },
    {
      "cell_type": "markdown",
      "metadata": {
        "id": "_jxUM48wXUWf"
      },
      "source": [
        "Uma API (application programming interface) é uma interface de comunicação com uma aplicação no formato cliente/servidor. Uma REST API é uma API que segue o padrão HTTP e transfere dados (em geral) no formato JSON. APIs fechadas são pagas e exigem autenticação (via método HTTP POST). APIs abertas são gratuitas e podem exigir autenticação."
      ]
    },
    {
      "cell_type": "markdown",
      "metadata": {
        "id": "6wlzx767cFzD"
      },
      "source": [
        "Alguns exemplos:\n",
        "\n",
        "* [Twitter](https://developer.twitter.com/en/docs);\n",
        "* [Governo Federal](https://www.gov.br/conecta/catalogo/)."
      ]
    },
    {
      "cell_type": "markdown",
      "metadata": {
        "id": "h9p2M6ZbZnCV"
      },
      "source": [
        "**Exemplo**: Extrair a taxa CDI da API da B3."
      ]
    },
    {
      "cell_type": "code",
      "metadata": {
        "id": "7wAUji7_Yc72",
        "colab": {
          "base_uri": "https://localhost:8080/"
        },
        "outputId": "5bb99754-c57f-472c-9495-d95b0046c0f5"
      },
      "source": [
        "import requests\n",
        "from requests.exceptions import HTTPError\n",
        "\n",
        "conteudo = None\n",
        "URL = 'https://www2.cetip.com.br/ConsultarTaxaDi/ConsultarTaxaDICetip.aspx'\n",
        "\n",
        "try:\n",
        "  resposta = requests.get(URL)\n",
        "  resposta.raise_for_status()\n",
        "except HTTPError as exc:\n",
        "  print(exc)\n",
        "else:\n",
        "  conteudo = resposta.text\n",
        "\n",
        "print(conteudo)\n",
        "print(type(conteudo)) # só para ver que é JSON por estar em str e não dict"
      ],
      "execution_count": null,
      "outputs": [
        {
          "output_type": "stream",
          "name": "stdout",
          "text": [
            "{\"taxa\":\"13,15\",\"dataTaxa\":\"25/07/2022\",\"indice\":\"35.830,64\",\"dataIndice\":\"26/07/2022\"}\n",
            "<class 'str'>\n"
          ]
        }
      ]
    },
    {
      "cell_type": "code",
      "metadata": {
        "id": "B2y4J3OFZUxE",
        "colab": {
          "base_uri": "https://localhost:8080/"
        },
        "outputId": "d37092f7-cc5a-4055-de5d-f49747c8f819"
      },
      "source": [
        "import json\n",
        "\n",
        "data = json.loads(conteudo) \n",
        "print(data)\n",
        "print(type(data))"
      ],
      "execution_count": null,
      "outputs": [
        {
          "output_type": "stream",
          "name": "stdout",
          "text": [
            "{'taxa': '13,15', 'dataTaxa': '25/07/2022', 'indice': '35.830,64', 'dataIndice': '26/07/2022'}\n",
            "<class 'dict'>\n"
          ]
        }
      ]
    },
    {
      "cell_type": "code",
      "metadata": {
        "id": "tvlPzYvYZcHI",
        "colab": {
          "base_uri": "https://localhost:8080/"
        },
        "outputId": "6dd620aa-f1d0-42a7-d872-08bfd9004239"
      },
      "source": [
        "cdi = float(data['taxa'].replace(',', '.'))\n",
        "print(cdi)"
      ],
      "execution_count": null,
      "outputs": [
        {
          "output_type": "stream",
          "name": "stdout",
          "text": [
            "13.15\n"
          ]
        }
      ]
    },
    {
      "cell_type": "markdown",
      "source": [
        "**EM RESUMO:**\n",
        "\n",
        "1.   O WEB CRAWLING SERVER PARA ACESSA OS SITES E PEGAR A INFORMAÇÃO\n",
        "2.   WEB SCRAPING PEGA INFORMAÇÃO E EXTRAI O DADO DE INTERESSE (O DADO VEM EM FORMATO HTML)\n",
        "3.   WEB API SÃO AMBOS, PORÉM MAIS SIMPLES PORQUÊ O FORMATO DO DADO É UM JSON   \n",
        "\n"
      ],
      "metadata": {
        "id": "jIjr8hCDprXp"
      }
    }
  ]
}
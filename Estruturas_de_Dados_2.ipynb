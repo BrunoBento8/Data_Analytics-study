{
  "cells": [
    {
      "cell_type": "markdown",
      "metadata": {
        "id": "view-in-github",
        "colab_type": "text"
      },
      "source": [
        "<a href=\"https://colab.research.google.com/github/BrunoBento8/Data_Analytics-study/blob/main/Estruturas_de_Dados_2.ipynb\" target=\"_parent\"><img src=\"https://colab.research.google.com/assets/colab-badge.svg\" alt=\"Open In Colab\"/></a>"
      ]
    },
    {
      "cell_type": "markdown",
      "metadata": {
        "id": "SmoHgt-lwkpD"
      },
      "source": [
        "---"
      ]
    },
    {
      "cell_type": "markdown",
      "metadata": {
        "id": "GABI6OW8OfQ2"
      },
      "source": [
        "# **Exercícios**"
      ]
    },
    {
      "cell_type": "markdown",
      "metadata": {
        "id": "muD1vxozykSC"
      },
      "source": [
        "## 1\\. Listas"
      ]
    },
    {
      "cell_type": "markdown",
      "metadata": {
        "id": "ahrFfCuBxJKs"
      },
      "source": [
        "Criei uma lista chamada `filmes` com o nome dos 10 primeiros filmes mais bem avaliados no site no [IMDB](https://www.imdb.com/chart/top/). Imprima o resultado."
      ]
    },
    {
      "cell_type": "code",
      "execution_count": null,
      "metadata": {
        "id": "OgL6Hv3bzOHI",
        "vscode": {
          "languageId": "python"
        },
        "colab": {
          "base_uri": "https://localhost:8080/"
        },
        "outputId": "ecad7ebf-d179-4e72-c4de-576808a5629b"
      },
      "outputs": [
        {
          "output_type": "stream",
          "name": "stdout",
          "text": [
            "['um sonho de liberdade', 'o poderoso chefao', 'batman', 'o poderoso chefao II', '12 homens e uma sentenca', 'a lista de schindler', 'o senhor dos anéis: o retorno do rei', 'pulp fiction: tempo de violencia', 'o senhor dos aneis: a sociedade do anel', 'tres homens em conflito']\n"
          ]
        }
      ],
      "source": [
        "filmes = [...]\n",
        "lista = ['um sonho de liberdade' , 'o poderoso chefao' , 'batman' , 'o poderoso chefao II', '12 homens e uma sentenca' , 'a lista de schindler','o senhor dos anéis: o retorno do rei','pulp fiction: tempo de violencia','o senhor dos aneis: a sociedade do anel', 'tres homens em conflito']\n",
        "filmes = lista\n",
        "print(lista)"
      ]
    },
    {
      "cell_type": "markdown",
      "metadata": {
        "id": "KI9zQRT2xa7m"
      },
      "source": [
        "Simule a movimentação do *ranking*. Utilize os métodos `insert` e `pop` para trocar a posição do primeiro e do segundo filme da lista. Imprima o resultado.\n",
        "\n"
      ]
    },
    {
      "cell_type": "code",
      "execution_count": null,
      "metadata": {
        "id": "zX3mA3_GzrXH",
        "vscode": {
          "languageId": "python"
        },
        "colab": {
          "base_uri": "https://localhost:8080/"
        },
        "outputId": "67344347-7e07-4af5-b0b6-01a56849312f"
      },
      "outputs": [
        {
          "output_type": "stream",
          "name": "stdout",
          "text": [
            "['outro batman', 'um sonho de liberdade', 'o poderoso chefao', 'outro batman', 'batman', 'o poderoso chefao II', '12 homens e uma sentenca', 'a lista de schindler', 'o senhor dos anéis: o retorno do rei', 'pulp fiction: tempo de violencia', 'o senhor dos aneis: a sociedade do anel', 'tres homens em conflito', 'outro super man', 'outro super man', 'outro batman']\n"
          ]
        }
      ],
      "source": [
        "lista.insert(3,'outro batman')\n",
        "print(lista)\n"
      ]
    },
    {
      "cell_type": "markdown",
      "metadata": {
        "id": "zMN1Q3jdwoJm"
      },
      "source": [
        "---"
      ]
    },
    {
      "cell_type": "markdown",
      "metadata": {
        "id": "lxa5L6uF0ZJE"
      },
      "source": [
        "## 2\\. Conjuntos"
      ]
    },
    {
      "cell_type": "markdown",
      "metadata": {
        "id": "9JahS2Kj0d5u"
      },
      "source": [
        "Aconteceu um erro no seu *ranking*. Simule a duplicação dos três últimos filmes da lista. Imprima o resultado."
      ]
    },
    {
      "cell_type": "code",
      "execution_count": null,
      "metadata": {
        "id": "BnjnLBNC6PGe",
        "vscode": {
          "languageId": "python"
        },
        "colab": {
          "base_uri": "https://localhost:8080/"
        },
        "outputId": "25e0fe7e-4227-4781-d468-a0446230ea7d"
      },
      "outputs": [
        {
          "output_type": "stream",
          "name": "stdout",
          "text": [
            "['o senhor dos anéis: o retorno do rei', 'batman', 'tres homens em conflito', 'a lista de schindler', 'um sonho de liberdade', 'o poderoso chefao', 'o poderoso chefao II', '12 homens e uma sentenca', 'outro batman', 'outro super man', 'o senhor dos aneis: a sociedade do anel', 'pulp fiction: tempo de violencia']\n"
          ]
        }
      ],
      "source": [
        "lista = list(set(lista))\n",
        "print(lista)\n"
      ]
    },
    {
      "cell_type": "markdown",
      "metadata": {
        "id": "suxTfCJB6ZiX"
      },
      "source": [
        "Utiliza a conversão `set` e `list` para remover os valores duplicados. Imprima o resultado. "
      ]
    },
    {
      "cell_type": "code",
      "execution_count": null,
      "metadata": {
        "id": "ZvUGN-0n6joM",
        "vscode": {
          "languageId": "python"
        }
      },
      "outputs": [],
      "source": [
        ""
      ]
    },
    {
      "cell_type": "markdown",
      "metadata": {
        "id": "ShkK35eQ6pAM"
      },
      "source": [
        "---"
      ]
    },
    {
      "cell_type": "markdown",
      "metadata": {
        "id": "EL_FzmxL6rTv"
      },
      "source": [
        "## 3\\. Dicionários"
      ]
    },
    {
      "cell_type": "markdown",
      "metadata": {
        "id": "i8l0gFqRCpfT"
      },
      "source": [
        "Repita os exercícios da parte 1 (listas). Os elementos da lista `filmes` devem ser dicionários no seguinte formato: `{'nome': <nome-do-filme>, 'ano': <ano do filme>}, 'sinopse': <sinopse do filme>}`. "
      ]
    },
    {
      "cell_type": "code",
      "execution_count": null,
      "metadata": {
        "id": "tu6MSFwGDnHv",
        "vscode": {
          "languageId": "python"
        },
        "colab": {
          "base_uri": "https://localhost:8080/"
        },
        "outputId": "019c22a8-0488-44f7-86e3-be6912754495"
      },
      "outputs": [
        {
          "output_type": "stream",
          "name": "stdout",
          "text": [
            "[]\n",
            "<class 'list'>\n"
          ]
        }
      ],
      "source": [
        "lista_dicion = []\n",
        "print(lista_dicion)\n",
        "\n",
        "novo_filme = {'nome':'o poderoso chefao', 'ano': 1972}\n",
        "\n",
        "lista_dicion.append(novo_filme)\n",
        "\n",
        "novo_filme = {'nome':'um sonho de liberdade', 'ano': 1994}\n",
        "\n",
        "lista_dicion.append(novo_filme)\n",
        "\n",
        "print(lista_dicion)\n",
        "\n"
      ]
    },
    {
      "cell_type": "code",
      "source": [
        "nova_lista = {'nome': 'um sonho de liberdade'}\n",
        "print(nova_lista)\n",
        "\n",
        "nova_lista = {'novo': 'o poderoso chefao'}\n",
        "print(nova_lista)\n",
        "\n",
        "nova_lista.update({'nome': '007'})\n",
        "print(nova_lista)"
      ],
      "metadata": {
        "colab": {
          "base_uri": "https://localhost:8080/"
        },
        "id": "0UEkX5gfIF-_",
        "outputId": "31a42b5b-6b6f-4e7d-8b08-3acb65863fe4"
      },
      "execution_count": null,
      "outputs": [
        {
          "output_type": "stream",
          "name": "stdout",
          "text": [
            "{'nome': 'um sonho de liberdade'}\n",
            "{'novo': 'o poderoso chefao'}\n",
            "{'novo': 'o poderoso chefao', 'nome': '007'}\n"
          ]
        }
      ]
    },
    {
      "cell_type": "code",
      "source": [
        "novo_filme = {'nome':'o poderoso chefao', 'ano': 1972}\n",
        "print(novo_filme)\n",
        "print(type(novo_filme))"
      ],
      "metadata": {
        "colab": {
          "base_uri": "https://localhost:8080/"
        },
        "id": "yEmHURaoG430",
        "outputId": "e05b0a67-c6a1-4855-8559-91965db9b60d"
      },
      "execution_count": null,
      "outputs": [
        {
          "output_type": "stream",
          "name": "stdout",
          "text": [
            "{'nome': 'o poderoso chefao', 'ano': 1972}\n",
            "<class 'dict'>\n"
          ]
        }
      ]
    }
  ],
  "metadata": {
    "colab": {
      "collapsed_sections": [],
      "name": "Estruturas_de_Dados_2.ipynb",
      "provenance": [],
      "include_colab_link": true
    },
    "kernelspec": {
      "display_name": "Python 3",
      "name": "python3"
    }
  },
  "nbformat": 4,
  "nbformat_minor": 0
}